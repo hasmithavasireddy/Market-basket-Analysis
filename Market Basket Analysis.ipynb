{
 "cells": [
  {
   "cell_type": "code",
   "execution_count": 1,
   "id": "6798e36d",
   "metadata": {},
   "outputs": [
    {
     "name": "stdout",
     "output_type": "stream",
     "text": [
      "Current Working Directory: /Users/hasmitha/SP24/Practicum/Assignment-3\n"
     ]
    }
   ],
   "source": [
    "import os\n",
    "\n",
    "# Print the current working directory\n",
    "print(\"Current Working Directory:\", os.getcwd())"
   ]
  },
  {
   "cell_type": "code",
   "execution_count": 4,
   "id": "5e27d66c",
   "metadata": {},
   "outputs": [
    {
     "name": "stdout",
     "output_type": "stream",
     "text": [
      "Requirement already satisfied: mlxtend in /Users/hasmitha/anaconda3/lib/python3.11/site-packages (0.23.1)\n",
      "Requirement already satisfied: scipy>=1.2.1 in /Users/hasmitha/anaconda3/lib/python3.11/site-packages (from mlxtend) (1.11.1)\n",
      "Requirement already satisfied: numpy>=1.16.2 in /Users/hasmitha/anaconda3/lib/python3.11/site-packages (from mlxtend) (1.24.3)\n",
      "Requirement already satisfied: pandas>=0.24.2 in /Users/hasmitha/anaconda3/lib/python3.11/site-packages (from mlxtend) (2.0.3)\n",
      "Requirement already satisfied: scikit-learn>=1.0.2 in /Users/hasmitha/anaconda3/lib/python3.11/site-packages (from mlxtend) (1.3.0)\n",
      "Requirement already satisfied: matplotlib>=3.0.0 in /Users/hasmitha/anaconda3/lib/python3.11/site-packages (from mlxtend) (3.7.2)\n",
      "Requirement already satisfied: joblib>=0.13.2 in /Users/hasmitha/anaconda3/lib/python3.11/site-packages (from mlxtend) (1.2.0)\n",
      "Requirement already satisfied: contourpy>=1.0.1 in /Users/hasmitha/anaconda3/lib/python3.11/site-packages (from matplotlib>=3.0.0->mlxtend) (1.0.5)\n",
      "Requirement already satisfied: cycler>=0.10 in /Users/hasmitha/anaconda3/lib/python3.11/site-packages (from matplotlib>=3.0.0->mlxtend) (0.11.0)\n",
      "Requirement already satisfied: fonttools>=4.22.0 in /Users/hasmitha/anaconda3/lib/python3.11/site-packages (from matplotlib>=3.0.0->mlxtend) (4.25.0)\n",
      "Requirement already satisfied: kiwisolver>=1.0.1 in /Users/hasmitha/anaconda3/lib/python3.11/site-packages (from matplotlib>=3.0.0->mlxtend) (1.4.4)\n",
      "Requirement already satisfied: packaging>=20.0 in /Users/hasmitha/anaconda3/lib/python3.11/site-packages (from matplotlib>=3.0.0->mlxtend) (23.1)\n",
      "Requirement already satisfied: pillow>=6.2.0 in /Users/hasmitha/anaconda3/lib/python3.11/site-packages (from matplotlib>=3.0.0->mlxtend) (10.0.1)\n",
      "Requirement already satisfied: pyparsing<3.1,>=2.3.1 in /Users/hasmitha/anaconda3/lib/python3.11/site-packages (from matplotlib>=3.0.0->mlxtend) (3.0.9)\n",
      "Requirement already satisfied: python-dateutil>=2.7 in /Users/hasmitha/anaconda3/lib/python3.11/site-packages (from matplotlib>=3.0.0->mlxtend) (2.8.2)\n",
      "Requirement already satisfied: pytz>=2020.1 in /Users/hasmitha/anaconda3/lib/python3.11/site-packages (from pandas>=0.24.2->mlxtend) (2023.3.post1)\n",
      "Requirement already satisfied: tzdata>=2022.1 in /Users/hasmitha/anaconda3/lib/python3.11/site-packages (from pandas>=0.24.2->mlxtend) (2023.3)\n",
      "Requirement already satisfied: threadpoolctl>=2.0.0 in /Users/hasmitha/anaconda3/lib/python3.11/site-packages (from scikit-learn>=1.0.2->mlxtend) (2.2.0)\n",
      "Requirement already satisfied: six>=1.5 in /Users/hasmitha/anaconda3/lib/python3.11/site-packages (from python-dateutil>=2.7->matplotlib>=3.0.0->mlxtend) (1.16.0)\n",
      "Note: you may need to restart the kernel to use updated packages.\n"
     ]
    }
   ],
   "source": [
    "pip install mlxtend"
   ]
  },
  {
   "cell_type": "code",
   "execution_count": 3,
   "id": "5827fbfe",
   "metadata": {},
   "outputs": [
    {
     "name": "stdout",
     "output_type": "stream",
     "text": [
      "Collecting squarify\n",
      "  Downloading squarify-0.4.3-py3-none-any.whl (4.3 kB)\n",
      "Installing collected packages: squarify\n",
      "Successfully installed squarify-0.4.3\n",
      "Note: you may need to restart the kernel to use updated packages.\n"
     ]
    }
   ],
   "source": [
    "pip install squarify"
   ]
  },
  {
   "cell_type": "markdown",
   "id": "b8e275e4",
   "metadata": {},
   "source": [
    "## DATA PREPARATION"
   ]
  },
  {
   "cell_type": "code",
   "execution_count": 4,
   "id": "1106b856",
   "metadata": {},
   "outputs": [
    {
     "data": {
      "text/html": [
       "<div>\n",
       "<style scoped>\n",
       "    .dataframe tbody tr th:only-of-type {\n",
       "        vertical-align: middle;\n",
       "    }\n",
       "\n",
       "    .dataframe tbody tr th {\n",
       "        vertical-align: top;\n",
       "    }\n",
       "\n",
       "    .dataframe thead th {\n",
       "        text-align: right;\n",
       "    }\n",
       "</style>\n",
       "<table border=\"1\" class=\"dataframe\">\n",
       "  <thead>\n",
       "    <tr style=\"text-align: right;\">\n",
       "      <th></th>\n",
       "      <th>InvoiceNo</th>\n",
       "      <th>StockCode</th>\n",
       "      <th>Description</th>\n",
       "      <th>Quantity</th>\n",
       "      <th>InvoiceDate</th>\n",
       "      <th>UnitPrice</th>\n",
       "      <th>CustomerID</th>\n",
       "      <th>Country</th>\n",
       "    </tr>\n",
       "  </thead>\n",
       "  <tbody>\n",
       "    <tr>\n",
       "      <th>0</th>\n",
       "      <td>536365</td>\n",
       "      <td>85123A</td>\n",
       "      <td>WHITE HANGING HEART T-LIGHT HOLDER</td>\n",
       "      <td>6</td>\n",
       "      <td>2010-12-01 08:26:00</td>\n",
       "      <td>2.55</td>\n",
       "      <td>17850</td>\n",
       "      <td>United Kingdom</td>\n",
       "    </tr>\n",
       "    <tr>\n",
       "      <th>1</th>\n",
       "      <td>536365</td>\n",
       "      <td>71053</td>\n",
       "      <td>WHITE METAL LANTERN</td>\n",
       "      <td>6</td>\n",
       "      <td>2010-12-01 08:26:00</td>\n",
       "      <td>3.39</td>\n",
       "      <td>17850</td>\n",
       "      <td>United Kingdom</td>\n",
       "    </tr>\n",
       "    <tr>\n",
       "      <th>2</th>\n",
       "      <td>536365</td>\n",
       "      <td>84406B</td>\n",
       "      <td>CREAM CUPID HEARTS COAT HANGER</td>\n",
       "      <td>8</td>\n",
       "      <td>2010-12-01 08:26:00</td>\n",
       "      <td>2.75</td>\n",
       "      <td>17850</td>\n",
       "      <td>United Kingdom</td>\n",
       "    </tr>\n",
       "    <tr>\n",
       "      <th>3</th>\n",
       "      <td>536365</td>\n",
       "      <td>84029G</td>\n",
       "      <td>KNITTED UNION FLAG HOT WATER BOTTLE</td>\n",
       "      <td>6</td>\n",
       "      <td>2010-12-01 08:26:00</td>\n",
       "      <td>3.39</td>\n",
       "      <td>17850</td>\n",
       "      <td>United Kingdom</td>\n",
       "    </tr>\n",
       "    <tr>\n",
       "      <th>4</th>\n",
       "      <td>536365</td>\n",
       "      <td>84029E</td>\n",
       "      <td>RED WOOLLY HOTTIE WHITE HEART.</td>\n",
       "      <td>6</td>\n",
       "      <td>2010-12-01 08:26:00</td>\n",
       "      <td>3.39</td>\n",
       "      <td>17850</td>\n",
       "      <td>United Kingdom</td>\n",
       "    </tr>\n",
       "  </tbody>\n",
       "</table>\n",
       "</div>"
      ],
      "text/plain": [
       "  InvoiceNo StockCode                          Description  Quantity  \\\n",
       "0    536365    85123A   WHITE HANGING HEART T-LIGHT HOLDER         6   \n",
       "1    536365     71053                  WHITE METAL LANTERN         6   \n",
       "2    536365    84406B       CREAM CUPID HEARTS COAT HANGER         8   \n",
       "3    536365    84029G  KNITTED UNION FLAG HOT WATER BOTTLE         6   \n",
       "4    536365    84029E       RED WOOLLY HOTTIE WHITE HEART.         6   \n",
       "\n",
       "          InvoiceDate  UnitPrice  CustomerID         Country  \n",
       "0 2010-12-01 08:26:00       2.55       17850  United Kingdom  \n",
       "1 2010-12-01 08:26:00       3.39       17850  United Kingdom  \n",
       "2 2010-12-01 08:26:00       2.75       17850  United Kingdom  \n",
       "3 2010-12-01 08:26:00       3.39       17850  United Kingdom  \n",
       "4 2010-12-01 08:26:00       3.39       17850  United Kingdom  "
      ]
     },
     "execution_count": 4,
     "metadata": {},
     "output_type": "execute_result"
    }
   ],
   "source": [
    "import pandas as pd\n",
    "\n",
    "# Load dataset\n",
    "df = pd.read_excel('/Users/hasmitha/SP24/Practicum/Assignment-3/OnlineRetail (1).xlsx')\n",
    "\n",
    "# Preprocess data (e.g., removing missing values, filtering data)\n",
    "df.dropna(subset=['CustomerID'], inplace=True)\n",
    "df['CustomerID'] = df['CustomerID'].astype(int)\n",
    "df.head()\n"
   ]
  },
  {
   "cell_type": "markdown",
   "id": "ac2eb87a",
   "metadata": {},
   "source": [
    "## ASSOCIATION RULE LEARNING"
   ]
  },
  {
   "cell_type": "markdown",
   "id": "0cb46f58",
   "metadata": {},
   "source": [
    "###### CODE-1: PRINTING  ASSOCIATION RULES FROM THE FREQUENTLY PURHCASED ITEM SETS USING APRIORI"
   ]
  },
  {
   "cell_type": "code",
   "execution_count": 5,
   "id": "64ff62bf",
   "metadata": {},
   "outputs": [
    {
     "name": "stderr",
     "output_type": "stream",
     "text": [
      "/Users/hasmitha/anaconda3/lib/python3.11/site-packages/mlxtend/frequent_patterns/fpcommon.py:109: DeprecationWarning: DataFrames with non-bool types result in worse computationalperformance and their support might be discontinued in the future.Please use a DataFrame with bool type\n",
      "  warnings.warn(\n"
     ]
    }
   ],
   "source": [
    "from mlxtend.frequent_patterns import apriori, association_rules\n",
    "from mlxtend.preprocessing import TransactionEncoder\n",
    "\n",
    "# Convert the dataset into a list of transactions\n",
    "transactions = df.groupby(['InvoiceNo', 'Description'])['Quantity'].sum().unstack().reset_index().fillna(0).set_index('InvoiceNo')\n",
    "transactions = transactions.applymap(lambda x: 1 if x > 0 else 0)\n",
    "\n",
    "# Find frequent itemsets\n",
    "frequent_itemsets = apriori(transactions, min_support=0.02, use_colnames=True)\n",
    "\n",
    "# Generate association rules\n",
    "rules =   association_rules(frequent_itemsets, metric=\"lift\", min_threshold=1)\n"
   ]
  },
  {
   "cell_type": "code",
   "execution_count": 6,
   "id": "3a287e81",
   "metadata": {},
   "outputs": [
    {
     "name": "stdout",
     "output_type": "stream",
     "text": [
      "                           antecedents                         consequents   support  confidence       lift\n",
      "0           ALARM CLOCK BAKELIKE GREEN           ALARM CLOCK BAKELIKE RED   0.023885    0.671736  16.996386\n",
      "1            ALARM CLOCK BAKELIKE RED           ALARM CLOCK BAKELIKE GREEN  0.023885    0.604333  16.996386\n",
      "2    GARDENERS KNEELING PAD KEEP CALM   GARDENERS KNEELING PAD CUP OF TEA   0.020865    0.612434  21.401429\n",
      "3   GARDENERS KNEELING PAD CUP OF TEA    GARDENERS KNEELING PAD KEEP CALM   0.020865    0.729134  21.401429\n",
      "4      GREEN REGENCY TEACUP AND SAUCER      PINK REGENCY TEACUP AND SAUCER  0.020730    0.665702  26.568210\n",
      "5       PINK REGENCY TEACUP AND SAUCER     GREEN REGENCY TEACUP AND SAUCER  0.020730    0.827338  26.568210\n",
      "6      GREEN REGENCY TEACUP AND SAUCER    ROSES REGENCY TEACUP AND SAUCER   0.024380    0.782923  22.187826\n",
      "7     ROSES REGENCY TEACUP AND SAUCER      GREEN REGENCY TEACUP AND SAUCER  0.024380    0.690932  22.187826\n",
      "8              JUMBO BAG PINK POLKADOT             JUMBO BAG RED RETROSPOT  0.024606    0.626866   8.693843\n",
      "9              JUMBO BAG RED RETROSPOT             JUMBO BAG PINK POLKADOT  0.024606    0.341250   8.693843\n",
      "10             LUNCH BAG  BLACK SKULL.             LUNCH BAG PINK POLKADOT  0.020910    0.441065  10.512593\n",
      "11             LUNCH BAG PINK POLKADOT             LUNCH BAG  BLACK SKULL.  0.020910    0.498389  10.512593\n",
      "12             LUNCH BAG  BLACK SKULL.             LUNCH BAG RED RETROSPOT  0.023299    0.491445   8.466740\n",
      "13             LUNCH BAG RED RETROSPOT             LUNCH BAG  BLACK SKULL.  0.023299    0.401398   8.466740\n",
      "14                 LUNCH BAG CARS BLUE             LUNCH BAG RED RETROSPOT  0.020640    0.474120   8.168264\n",
      "15             LUNCH BAG RED RETROSPOT                 LUNCH BAG CARS BLUE  0.020640    0.355590   8.168264\n",
      "16             LUNCH BAG PINK POLKADOT             LUNCH BAG RED RETROSPOT  0.023569    0.561762   9.678174\n",
      "17             LUNCH BAG RED RETROSPOT             LUNCH BAG PINK POLKADOT  0.023569    0.406056   9.678174\n",
      "18          LUNCH BAG SPACEBOY DESIGN              LUNCH BAG RED RETROSPOT  0.021046    0.472672   8.143318\n",
      "19             LUNCH BAG RED RETROSPOT          LUNCH BAG SPACEBOY DESIGN   0.021046    0.362578   8.143318\n",
      "20              LUNCH BAG SUKI DESIGN              LUNCH BAG RED RETROSPOT  0.020279    0.500556   8.623712\n",
      "21             LUNCH BAG RED RETROSPOT              LUNCH BAG SUKI DESIGN   0.020279    0.349379   8.623712\n",
      "22   PAPER CHAIN KIT VINTAGE CHRISTMAS     PAPER CHAIN KIT 50'S CHRISTMAS   0.020324    0.647059  14.651261\n",
      "23     PAPER CHAIN KIT 50'S CHRISTMAS    PAPER CHAIN KIT VINTAGE CHRISTMAS  0.020324    0.460204  14.651261\n",
      "24    RED HANGING HEART T-LIGHT HOLDER  WHITE HANGING HEART T-LIGHT HOLDER  0.020505    0.670103   7.544184\n",
      "25  WHITE HANGING HEART T-LIGHT HOLDER    RED HANGING HEART T-LIGHT HOLDER  0.020505    0.230847   7.544184\n",
      "26         WOODEN FRAME ANTIQUE WHITE    WOODEN PICTURE FRAME WHITE FINISH  0.021091    0.577065  14.617671\n",
      "27   WOODEN PICTURE FRAME WHITE FINISH         WOODEN FRAME ANTIQUE WHITE   0.021091    0.534247  14.617671\n"
     ]
    }
   ],
   "source": [
    "import pandas as pd\n",
    "\n",
    "# Format and print the rules in a nicer tabular format\n",
    "pd.set_option('display.max_columns', None)  # Ensure all columns are shown\n",
    "pd.set_option('display.width', 1000)  # Set the display width to prevent wrapping\n",
    "pd.set_option('display.max_colwidth', None)  # Ensure full display of content in columns\n",
    "\n",
    "# Selecting columns to display\n",
    "columns_to_display = ['antecedents', 'consequents', 'support', 'confidence', 'lift']\n",
    "\n",
    "# Convert frozensets to strings for nicer display\n",
    "rules['antecedents'] = rules['antecedents'].apply(lambda x: ', '.join(list(x)))\n",
    "rules['consequents'] = rules['consequents'].apply(lambda x: ', '.join(list(x)))\n",
    "\n",
    "# Display the rules\n",
    "print(rules[columns_to_display])\n"
   ]
  },
  {
   "cell_type": "markdown",
   "id": "df1e8e9b",
   "metadata": {},
   "source": [
    "###### CODE-2: PRINTING  ASSOCIATION RULES FROM THE FREQUENTLY PURHCASED ITEM SETS WITHOUT APRIORI"
   ]
  },
  {
   "cell_type": "code",
   "execution_count": 7,
   "id": "6f0c537b",
   "metadata": {},
   "outputs": [],
   "source": [
    "import pandas as pd\n",
    "from itertools import combinations\n",
    "\n",
    "# Convert 'Description' to string to avoid potential issues with other data types\n",
    "df['Description'] = df['Description'].astype(str)\n",
    "\n",
    "# Calculate the frequency of individual items\n",
    "item_frequency = df['Description'].value_counts()\n",
    "\n",
    "# Total number of transactions\n",
    "total_transactions = df['InvoiceNo'].nunique()\n",
    "\n",
    "# Create a mapping of InvoiceNo to list of Descriptions (items)\n",
    "invoice_to_items = df.groupby('InvoiceNo')['Description'].apply(list)\n",
    "\n",
    "# Calculate pair frequency and support\n",
    "pair_support = {}\n",
    "for items in invoice_to_items:\n",
    "    for item_pair in combinations(set(items), 2):\n",
    "        pair_support[item_pair] = pair_support.get(item_pair, 0) + 1\n",
    "\n",
    "# Calculate support, confidence, and lift for each pair\n",
    "rules = []\n",
    "for (item1, item2), freq in pair_support.items():\n",
    "    support = freq / total_transactions\n",
    "    confidence1 = freq / item_frequency.get(item1, 0)\n",
    "    lift1 = confidence1 / (item_frequency.get(item2, 0) / total_transactions)\n",
    "    \n",
    "    # Add rule if confidence and lift are greater than given thresholds\n",
    "    if confidence1 > 0.5 and lift1 > 1:\n",
    "        rules.append((item1, item2, support, confidence1, lift1))\n",
    "\n",
    "# Convert rules to DataFrame\n",
    "rules_df = pd.DataFrame(rules, columns=['antecedents', 'consequents', 'support', 'confidence', 'lift'])\n",
    "\n",
    "# Sort the rules by confidence and lift, descending\n",
    "sorted_rules = rules_df.sort_values(by=['confidence', 'lift'], ascending=[False, False])\n",
    "\n",
    "# Reset index to match the desired output format\n",
    "sorted_rules.reset_index(drop=True, inplace=True)"
   ]
  },
  {
   "cell_type": "code",
   "execution_count": 8,
   "id": "db1cc763",
   "metadata": {},
   "outputs": [
    {
     "name": "stdout",
     "output_type": "stream",
     "text": [
      "                           antecedents                        consequents   support  confidence     lift\n",
      "0         CAKESTAND, 3 TIER, LOVEHEART               GLASS BELL JAR LARGE  0.000045         1.0  22190.0\n",
      "1         CAKESTAND, 3 TIER, LOVEHEART               GLASS BELL JAR SMALL  0.000045         1.0  22190.0\n",
      "2                 GLASS BELL JAR LARGE               GLASS BELL JAR SMALL  0.000045         1.0  22190.0\n",
      "3             VINTAGE BLUE TINSEL REEL    JARDIN ETCHED GLASS BUTTER DISH  0.000045         1.0  22190.0\n",
      "4  BLUE/GREEN SHELL NECKLACE W PENDANT  BLUE LEAVES AND BEADS PHONE CHARM  0.000045         1.0  22190.0\n"
     ]
    }
   ],
   "source": [
    "# Print the rules\n",
    "print(sorted_rules.head())  # Show the first few rules\n"
   ]
  },
  {
   "cell_type": "markdown",
   "id": "41e1b7bf",
   "metadata": {},
   "source": [
    "##### The first code (CODE-1) uses the mlxtend library to generate frequent itemsets and rules, which is an optimized and well-tested implementation for association rule mining. The second code (CODE-2) attempts to manually recreate this process, which can introduce discrepancies if not done with the same level of precision, especially with the handling of itemsets and calculations."
   ]
  },
  {
   "cell_type": "markdown",
   "id": "a7031fed",
   "metadata": {},
   "source": [
    "#####  To make CODE-2 work like CODE-1 and output rules , you need to ensure that the support, confidence, and lift calculations are done in the same manner and that the same thresholds are applied. Additionally, you need to account for the directionality of the rules, as mlxtend may treat item pairs (A, B) and (B, A) differently. Overall this calls for mlxtend."
   ]
  },
  {
   "cell_type": "markdown",
   "id": "599857bc",
   "metadata": {},
   "source": [
    "## POPULAR ITEMS RECOMMENDATION"
   ]
  },
  {
   "cell_type": "markdown",
   "id": "eecace31",
   "metadata": {},
   "source": [
    "##### THIS FUNCTION RECOMMENDS TOP 'N' PURCHASES "
   ]
  },
  {
   "cell_type": "code",
   "execution_count": 9,
   "id": "68786df6",
   "metadata": {},
   "outputs": [],
   "source": [
    "# Calculate item popularity\n",
    "item_popularity = df['Description'].value_counts().reset_index()\n",
    "item_popularity.columns = ['Description', 'Popularity']\n",
    "\n",
    "# Function to recommend popular items\n",
    "def recommend_popular_items(n):\n",
    "    return item_popularity.head(n)\n"
   ]
  },
  {
   "cell_type": "code",
   "execution_count": 10,
   "id": "7f3a164f",
   "metadata": {},
   "outputs": [
    {
     "data": {
      "text/html": [
       "<div>\n",
       "<style scoped>\n",
       "    .dataframe tbody tr th:only-of-type {\n",
       "        vertical-align: middle;\n",
       "    }\n",
       "\n",
       "    .dataframe tbody tr th {\n",
       "        vertical-align: top;\n",
       "    }\n",
       "\n",
       "    .dataframe thead th {\n",
       "        text-align: right;\n",
       "    }\n",
       "</style>\n",
       "<table border=\"1\" class=\"dataframe\">\n",
       "  <thead>\n",
       "    <tr style=\"text-align: right;\">\n",
       "      <th></th>\n",
       "      <th>Description</th>\n",
       "      <th>Popularity</th>\n",
       "    </tr>\n",
       "  </thead>\n",
       "  <tbody>\n",
       "    <tr>\n",
       "      <th>0</th>\n",
       "      <td>WHITE HANGING HEART T-LIGHT HOLDER</td>\n",
       "      <td>2070</td>\n",
       "    </tr>\n",
       "    <tr>\n",
       "      <th>1</th>\n",
       "      <td>REGENCY CAKESTAND 3 TIER</td>\n",
       "      <td>1905</td>\n",
       "    </tr>\n",
       "    <tr>\n",
       "      <th>2</th>\n",
       "      <td>JUMBO BAG RED RETROSPOT</td>\n",
       "      <td>1662</td>\n",
       "    </tr>\n",
       "    <tr>\n",
       "      <th>3</th>\n",
       "      <td>ASSORTED COLOUR BIRD ORNAMENT</td>\n",
       "      <td>1418</td>\n",
       "    </tr>\n",
       "    <tr>\n",
       "      <th>4</th>\n",
       "      <td>PARTY BUNTING</td>\n",
       "      <td>1416</td>\n",
       "    </tr>\n",
       "  </tbody>\n",
       "</table>\n",
       "</div>"
      ],
      "text/plain": [
       "                          Description  Popularity\n",
       "0  WHITE HANGING HEART T-LIGHT HOLDER        2070\n",
       "1            REGENCY CAKESTAND 3 TIER        1905\n",
       "2             JUMBO BAG RED RETROSPOT        1662\n",
       "3       ASSORTED COLOUR BIRD ORNAMENT        1418\n",
       "4                       PARTY BUNTING        1416"
      ]
     },
     "execution_count": 10,
     "metadata": {},
     "output_type": "execute_result"
    }
   ],
   "source": [
    "# Display the top 5 popular items for recommendation\n",
    "recommend_popular_items(5)"
   ]
  },
  {
   "cell_type": "code",
   "execution_count": 11,
   "id": "401239f9",
   "metadata": {},
   "outputs": [
    {
     "data": {
      "text/html": [
       "<div>\n",
       "<style scoped>\n",
       "    .dataframe tbody tr th:only-of-type {\n",
       "        vertical-align: middle;\n",
       "    }\n",
       "\n",
       "    .dataframe tbody tr th {\n",
       "        vertical-align: top;\n",
       "    }\n",
       "\n",
       "    .dataframe thead th {\n",
       "        text-align: right;\n",
       "    }\n",
       "</style>\n",
       "<table border=\"1\" class=\"dataframe\">\n",
       "  <thead>\n",
       "    <tr style=\"text-align: right;\">\n",
       "      <th></th>\n",
       "      <th>Description</th>\n",
       "      <th>Popularity</th>\n",
       "    </tr>\n",
       "  </thead>\n",
       "  <tbody>\n",
       "    <tr>\n",
       "      <th>0</th>\n",
       "      <td>WHITE HANGING HEART T-LIGHT HOLDER</td>\n",
       "      <td>2070</td>\n",
       "    </tr>\n",
       "    <tr>\n",
       "      <th>1</th>\n",
       "      <td>REGENCY CAKESTAND 3 TIER</td>\n",
       "      <td>1905</td>\n",
       "    </tr>\n",
       "    <tr>\n",
       "      <th>2</th>\n",
       "      <td>JUMBO BAG RED RETROSPOT</td>\n",
       "      <td>1662</td>\n",
       "    </tr>\n",
       "    <tr>\n",
       "      <th>3</th>\n",
       "      <td>ASSORTED COLOUR BIRD ORNAMENT</td>\n",
       "      <td>1418</td>\n",
       "    </tr>\n",
       "    <tr>\n",
       "      <th>4</th>\n",
       "      <td>PARTY BUNTING</td>\n",
       "      <td>1416</td>\n",
       "    </tr>\n",
       "    <tr>\n",
       "      <th>5</th>\n",
       "      <td>LUNCH BAG RED RETROSPOT</td>\n",
       "      <td>1358</td>\n",
       "    </tr>\n",
       "    <tr>\n",
       "      <th>6</th>\n",
       "      <td>SET OF 3 CAKE TINS PANTRY DESIGN</td>\n",
       "      <td>1232</td>\n",
       "    </tr>\n",
       "    <tr>\n",
       "      <th>7</th>\n",
       "      <td>POSTAGE</td>\n",
       "      <td>1196</td>\n",
       "    </tr>\n",
       "    <tr>\n",
       "      <th>8</th>\n",
       "      <td>LUNCH BAG  BLACK SKULL.</td>\n",
       "      <td>1126</td>\n",
       "    </tr>\n",
       "    <tr>\n",
       "      <th>9</th>\n",
       "      <td>PACK OF 72 RETROSPOT CAKE CASES</td>\n",
       "      <td>1080</td>\n",
       "    </tr>\n",
       "  </tbody>\n",
       "</table>\n",
       "</div>"
      ],
      "text/plain": [
       "                          Description  Popularity\n",
       "0  WHITE HANGING HEART T-LIGHT HOLDER        2070\n",
       "1            REGENCY CAKESTAND 3 TIER        1905\n",
       "2             JUMBO BAG RED RETROSPOT        1662\n",
       "3       ASSORTED COLOUR BIRD ORNAMENT        1418\n",
       "4                       PARTY BUNTING        1416\n",
       "5             LUNCH BAG RED RETROSPOT        1358\n",
       "6   SET OF 3 CAKE TINS PANTRY DESIGN         1232\n",
       "7                             POSTAGE        1196\n",
       "8             LUNCH BAG  BLACK SKULL.        1126\n",
       "9     PACK OF 72 RETROSPOT CAKE CASES        1080"
      ]
     },
     "execution_count": 11,
     "metadata": {},
     "output_type": "execute_result"
    }
   ],
   "source": [
    "# Display the top 10 popular items for recommendation\n",
    "recommend_popular_items(10)"
   ]
  },
  {
   "cell_type": "markdown",
   "id": "6c080a67",
   "metadata": {},
   "source": [
    "## COLLABORATIVE FILTERING"
   ]
  },
  {
   "cell_type": "markdown",
   "id": "1ff83a15",
   "metadata": {},
   "source": [
    "###### THIS FUNCTION IS TO RECOMMEND ITEMS FOR A PARTICULAR CUSTOMER USING COLLABORATIVE FILTERING TECHNIQUE"
   ]
  },
  {
   "cell_type": "code",
   "execution_count": 5,
   "id": "efad500f",
   "metadata": {},
   "outputs": [],
   "source": [
    "from sklearn.metrics.pairwise import cosine_similarity\n",
    "import pandas as pd\n",
    "\n",
    "# Create a user-item matrix\n",
    "user_item_matrix = df.pivot_table(index='CustomerID', columns='Description', values='Quantity', aggfunc='sum').fillna(0)\n",
    "\n",
    "# Compute user similarity\n",
    "user_similarity = cosine_similarity(user_item_matrix)\n",
    "user_similarity_df = pd.DataFrame(user_similarity, index=user_item_matrix.index, columns=user_item_matrix.index)\n",
    "\n",
    "#function to recommend items based on collaborative filtering\n",
    "def recommend_collaborative_filtering(user_id, n=5):\n",
    "    if user_id not in user_similarity_df.index:\n",
    "        raise ValueError(f\"User ID {user_id} not found in the User-Item Matrix.\")\n",
    "    \n",
    "    similar_users = user_similarity_df[user_id].sort_values(ascending=False).index[1:]\n",
    "    recommended_items = pd.Series()\n",
    "    for similar_user in similar_users:\n",
    "        similar_user_items = user_item_matrix.loc[similar_user]\n",
    "        recommended_items = pd.concat([recommended_items, similar_user_items])\n",
    "    \n",
    "    # Drop any potential NaN values that might have been introduced during concatenation\n",
    "    recommended_items = recommended_items.dropna()\n",
    "    \n",
    "    # Group by item and sum quantities, then sort by the summed quantity to find most popular\n",
    "    recommended_items = recommended_items.groupby(recommended_items.index).sum().sort_values(ascending=False)\n",
    "    \n",
    "    # Return the top N recommended item names\n",
    "    return recommended_items.head(n).index.tolist()\n"
   ]
  },
  {
   "cell_type": "code",
   "execution_count": 13,
   "id": "0966ff93",
   "metadata": {},
   "outputs": [
    {
     "name": "stdout",
     "output_type": "stream",
     "text": [
      "['WORLD WAR 2 GLIDERS ASSTD DESIGNS', 'JUMBO BAG RED RETROSPOT', 'ASSORTED COLOUR BIRD ORNAMENT', 'WHITE HANGING HEART T-LIGHT HOLDER', 'PACK OF 72 RETROSPOT CAKE CASES']\n"
     ]
    }
   ],
   "source": [
    "# Example usage\n",
    "recommended_items = recommend_collaborative_filtering(user_id=15311, n=5)\n",
    "print(recommended_items)"
   ]
  },
  {
   "cell_type": "markdown",
   "id": "b92a6959",
   "metadata": {},
   "source": [
    "## MAIN INTERFACE FUNCTION"
   ]
  },
  {
   "cell_type": "markdown",
   "id": "a035de28",
   "metadata": {},
   "source": [
    "##### THIS FUNCTION IS TO SUGGEST WHICH ITEM SHOULD BE RECOMENDED TO A PARTICULAR CUSTOMER BASED ON HIS CURRENT PURCHASE"
   ]
  },
  {
   "cell_type": "code",
   "execution_count": 16,
   "id": "9e23bd4c",
   "metadata": {},
   "outputs": [],
   "source": [
    "import pandas as pd\n",
    "from mlxtend.frequent_patterns import apriori, association_rules\n",
    "from datetime import datetime\n",
    "\n",
    "\n",
    "\n",
    "def RecommendItems(CurItemOfInterest, CustomerID, Country, Time, Date):\n",
    "    # Convert date and time strings to datetime objects\n",
    "    Date_Time = datetime.strptime(f'{Date} {Time}', '%Y-%m-%d %H:%M:%S')\n",
    "    \n",
    "    # Filter the dataset for the current user, country, and day\n",
    "    user_data = df[(df['CustomerID'] == CustomerID) & \n",
    "                   (df['Country'] == Country) & \n",
    "                   (df['InvoiceDate'].dt.date == Date_Time.date())]\n",
    "    \n",
    "    # Further filter data by time (within an hour range for this example)\n",
    "    user_data = user_data[(user_data['InvoiceDate'].dt.hour == Date_Time.hour)]\n",
    "    \n",
    "    # Check if the current item of interest is in the user's transactions\n",
    "    # If so, look for association rules involving this item\n",
    "    if CurItemOfInterest in user_data['Description'].unique():\n",
    "        # Convert the user's transactions into a format suitable for the Apriori algorithm\n",
    "        basket = (user_data.groupby(['InvoiceNo', 'Description'])['Quantity']\n",
    "                  .sum().unstack().fillna(0))\n",
    "        basket_sets = basket.applymap(lambda x: 1 if x > 0 else 0)\n",
    "        \n",
    "        # Generate frequent itemsets\n",
    "        frequent_itemsets = apriori(basket_sets, min_support=0.01, use_colnames=True)\n",
    "        \n",
    "        # Generate association rules\n",
    "        rules = association_rules(frequent_itemsets, metric=\"lift\", min_threshold=1)\n",
    "        rules = rules[rules['antecedents'].apply(lambda x: CurItemOfInterest in x)]\n",
    "        \n",
    "        # Sort rules by confidence and lift\n",
    "        rules.sort_values(by=['confidence', 'lift'], ascending=False, inplace=True)\n",
    "        \n",
    "        # Return the consequents of the top rule as the recommendation\n",
    "        if not rules.empty:\n",
    "            recommendations = list(rules.iloc[0]['consequents'])\n",
    "        else:\n",
    "            recommendations = \"No recommendations found based on the current item of interest.\"\n",
    "    else:\n",
    "        recommendations = \"Current item of interest not found in recent transactions.\"\n",
    "    \n",
    "    return recommendations\n"
   ]
  },
  {
   "cell_type": "code",
   "execution_count": 17,
   "id": "bdaf0201",
   "metadata": {},
   "outputs": [
    {
     "name": "stdout",
     "output_type": "stream",
     "text": [
      "['CREAM CUPID HEARTS COAT HANGER']\n"
     ]
    },
    {
     "name": "stderr",
     "output_type": "stream",
     "text": [
      "/Users/hasmitha/anaconda3/lib/python3.11/site-packages/mlxtend/frequent_patterns/fpcommon.py:109: DeprecationWarning: DataFrames with non-bool types result in worse computationalperformance and their support might be discontinued in the future.Please use a DataFrame with bool type\n",
      "  warnings.warn(\n"
     ]
    }
   ],
   "source": [
    "# Example:\n",
    "recommendations = RecommendItems('WHITE HANGING HEART T-LIGHT HOLDER', 17850, 'United Kingdom', '08:26:00', '2010-12-01')\n",
    "print(recommendations)"
   ]
  },
  {
   "cell_type": "markdown",
   "id": "9ef01a93",
   "metadata": {},
   "source": [
    "## DATA VISUALIZATION"
   ]
  },
  {
   "cell_type": "markdown",
   "id": "8b55f8d0",
   "metadata": {},
   "source": [
    "### 1. Visualize the most frequently bought items"
   ]
  },
  {
   "cell_type": "code",
   "execution_count": 20,
   "id": "5247e220",
   "metadata": {},
   "outputs": [
    {
     "data": {
      "image/png": "[encoded data removed]",
      "text/plain": [
       "<Figure size 640x480 with 1 Axes>"
      ]
     },
     "metadata": {},
     "output_type": "display_data"
    }
   ],
   "source": [
    "import matplotlib.pyplot as plt\n",
    "import seaborn as sns\n",
    "\n",
    "# Calculate the top 10 most frequently bought items\n",
    "top_items = df['Description'].value_counts().head(10)\n",
    "\n",
    "# Create a bar plot for the top items\n",
    "sns.barplot(y=top_items.index, x=top_items.values, orient='h')\n",
    "plt.title('Top 10 Most Frequently Bought Items')\n",
    "\n",
    "# Add the numbers on top of the bars\n",
    "for index, value in enumerate(top_items):\n",
    "    plt.text(value, index, str(value))\n",
    "\n",
    "plt.show()\n",
    "\n"
   ]
  },
  {
   "cell_type": "markdown",
   "id": "abe2fe13",
   "metadata": {},
   "source": [
    "##### MORE PROOF FOR OUR RECOMMENDED POPULAR ITEMS"
   ]
  },
  {
   "cell_type": "code",
   "execution_count": 19,
   "id": "6766392b",
   "metadata": {},
   "outputs": [
    {
     "data": {
      "text/html": [
       "<div>\n",
       "<style scoped>\n",
       "    .dataframe tbody tr th:only-of-type {\n",
       "        vertical-align: middle;\n",
       "    }\n",
       "\n",
       "    .dataframe tbody tr th {\n",
       "        vertical-align: top;\n",
       "    }\n",
       "\n",
       "    .dataframe thead th {\n",
       "        text-align: right;\n",
       "    }\n",
       "</style>\n",
       "<table border=\"1\" class=\"dataframe\">\n",
       "  <thead>\n",
       "    <tr style=\"text-align: right;\">\n",
       "      <th></th>\n",
       "      <th>Description</th>\n",
       "      <th>Popularity</th>\n",
       "    </tr>\n",
       "  </thead>\n",
       "  <tbody>\n",
       "    <tr>\n",
       "      <th>0</th>\n",
       "      <td>WHITE HANGING HEART T-LIGHT HOLDER</td>\n",
       "      <td>2070</td>\n",
       "    </tr>\n",
       "    <tr>\n",
       "      <th>1</th>\n",
       "      <td>REGENCY CAKESTAND 3 TIER</td>\n",
       "      <td>1905</td>\n",
       "    </tr>\n",
       "    <tr>\n",
       "      <th>2</th>\n",
       "      <td>JUMBO BAG RED RETROSPOT</td>\n",
       "      <td>1662</td>\n",
       "    </tr>\n",
       "    <tr>\n",
       "      <th>3</th>\n",
       "      <td>ASSORTED COLOUR BIRD ORNAMENT</td>\n",
       "      <td>1418</td>\n",
       "    </tr>\n",
       "    <tr>\n",
       "      <th>4</th>\n",
       "      <td>PARTY BUNTING</td>\n",
       "      <td>1416</td>\n",
       "    </tr>\n",
       "    <tr>\n",
       "      <th>5</th>\n",
       "      <td>LUNCH BAG RED RETROSPOT</td>\n",
       "      <td>1358</td>\n",
       "    </tr>\n",
       "    <tr>\n",
       "      <th>6</th>\n",
       "      <td>SET OF 3 CAKE TINS PANTRY DESIGN</td>\n",
       "      <td>1232</td>\n",
       "    </tr>\n",
       "    <tr>\n",
       "      <th>7</th>\n",
       "      <td>POSTAGE</td>\n",
       "      <td>1196</td>\n",
       "    </tr>\n",
       "    <tr>\n",
       "      <th>8</th>\n",
       "      <td>LUNCH BAG  BLACK SKULL.</td>\n",
       "      <td>1126</td>\n",
       "    </tr>\n",
       "    <tr>\n",
       "      <th>9</th>\n",
       "      <td>PACK OF 72 RETROSPOT CAKE CASES</td>\n",
       "      <td>1080</td>\n",
       "    </tr>\n",
       "  </tbody>\n",
       "</table>\n",
       "</div>"
      ],
      "text/plain": [
       "                          Description  Popularity\n",
       "0  WHITE HANGING HEART T-LIGHT HOLDER        2070\n",
       "1            REGENCY CAKESTAND 3 TIER        1905\n",
       "2             JUMBO BAG RED RETROSPOT        1662\n",
       "3       ASSORTED COLOUR BIRD ORNAMENT        1418\n",
       "4                       PARTY BUNTING        1416\n",
       "5             LUNCH BAG RED RETROSPOT        1358\n",
       "6   SET OF 3 CAKE TINS PANTRY DESIGN         1232\n",
       "7                             POSTAGE        1196\n",
       "8             LUNCH BAG  BLACK SKULL.        1126\n",
       "9     PACK OF 72 RETROSPOT CAKE CASES        1080"
      ]
     },
     "execution_count": 19,
     "metadata": {},
     "output_type": "execute_result"
    }
   ],
   "source": [
    "# Display the top 10 popular items for recommendation\n",
    "recommend_popular_items(10)"
   ]
  },
  {
   "cell_type": "markdown",
   "id": "5b4b6719",
   "metadata": {},
   "source": [
    "### 2. Visualize purchase time patterns"
   ]
  },
  {
   "cell_type": "code",
   "execution_count": 21,
   "id": "ecd1989f",
   "metadata": {},
   "outputs": [
    {
     "data": {
      "image/png": "[encoded data removed]",
      "text/plain": [
       "<Figure size 640x480 with 1 Axes>"
      ]
     },
     "metadata": {},
     "output_type": "display_data"
    }
   ],
   "source": [
    "# Visualize purchase time patterns by hour\n",
    "df['Hour'] = df['InvoiceDate'].dt.hour\n",
    "sns.countplot(x='Hour', data=df)\n",
    "plt.title('Purchase Count by Hour of Day')\n",
    "plt.show()"
   ]
  },
  {
   "cell_type": "markdown",
   "id": "1ad41ad6",
   "metadata": {},
   "source": [
    "### 3. Visualize monthly purchase patterns"
   ]
  },
  {
   "cell_type": "code",
   "execution_count": 32,
   "id": "23a35f0e",
   "metadata": {},
   "outputs": [
    {
     "data": {
      "image/png": "[encoded data removed]",
      "text/plain": [
       "<Figure size 1200x600 with 1 Axes>"
      ]
     },
     "metadata": {},
     "output_type": "display_data"
    }
   ],
   "source": [
    "\n",
    "# Plotting the bar chart for the number of purchases by month\n",
    "plt.figure(figsize=(12, 6))\n",
    "sales_by_month.plot(kind='bar', color='coral')\n",
    "plt.title('Number of Purchases by Month')\n",
    "plt.xlabel('Month')\n",
    "plt.ylabel('Number of Purchases')\n",
    "plt.xticks(rotation=0)\n",
    "plt.show()\n",
    "\n"
   ]
  },
  {
   "cell_type": "markdown",
   "id": "1993de1f",
   "metadata": {},
   "source": [
    "### 4.Calculate the average order value for November and January"
   ]
  },
  {
   "cell_type": "code",
   "execution_count": 14,
   "id": "8fba7c31",
   "metadata": {},
   "outputs": [
    {
     "name": "stdout",
     "output_type": "stream",
     "text": [
      "Average order value in November: 366.9500129617628\n",
      "Average order value in January: 384.3643851132686\n"
     ]
    },
    {
     "data": {
      "image/png": "[encoded data removed]",
      "text/plain": [
       "<Figure size 800x600 with 1 Axes>"
      ]
     },
     "metadata": {},
     "output_type": "display_data"
    }
   ],
   "source": [
    "import matplotlib.pyplot as plt\n",
    "\n",
    "# Data\n",
    "months = ['November', 'January']\n",
    "avg_values = [avg_nov_value, avg_jan_value]\n",
    "\n",
    "df['TotalPrice'] = df['Quantity'] * df['UnitPrice']\n",
    "november_data = df[df['InvoiceDate'].dt.month == 11]\n",
    "january_data = df[df['InvoiceDate'].dt.month == 1]\n",
    "avg_nov_value = november_data.groupby('InvoiceNo')['TotalPrice'].sum().mean()\n",
    "avg_jan_value = january_data.groupby('InvoiceNo')['TotalPrice'].sum().mean()\n",
    "print(f\"Average order value in November: {avg_nov_value}\")\n",
    "print(f\"Average order value in January: {avg_jan_value}\")\n",
    "\n",
    "# Plot\n",
    "plt.figure(figsize=(8, 6))\n",
    "plt.bar(months, avg_values, color=['blue', 'green'])\n",
    "plt.title('Average Order Value Comparison')\n",
    "plt.xlabel('Month')\n",
    "plt.ylabel('Average Order Value')\n",
    "plt.show()\n"
   ]
  }
 ],
 "metadata": {
  "kernelspec": {
   "display_name": "Python 3 (ipykernel)",
   "language": "python",
   "name": "python3"
  },
  "language_info": {
   "codemirror_mode": {
    "name": "ipython",
    "version": 3
   },
   "file_extension": ".py",
   "mimetype": "text/x-python",
   "name": "python",
   "nbconvert_exporter": "python",
   "pygments_lexer": "ipython3",
   "version": "3.11.5"
  }
 },
 "nbformat": 4,
 "nbformat_minor": 5
}
